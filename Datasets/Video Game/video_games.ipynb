{
 "metadata": {
  "language_info": {
   "codemirror_mode": {
    "name": "ipython",
    "version": 3
   },
   "file_extension": ".py",
   "mimetype": "text/x-python",
   "name": "python",
   "nbconvert_exporter": "python",
   "pygments_lexer": "ipython3",
   "version": 3
  },
  "orig_nbformat": 2,
  "kernelspec": {
   "name": "python_defaultSpec_1595325712343",
   "display_name": "Python 3.7.0 64-bit"
  }
 },
 "nbformat": 4,
 "nbformat_minor": 2,
 "cells": [
  {
   "cell_type": "code",
   "execution_count": 1,
   "metadata": {},
   "outputs": [],
   "source": [
    "import numpy as np \n",
    "import pandas as pd \n",
    "import matplotlib.pyplot as plt \n",
    "import seaborn as sns"
   ]
  },
  {
   "cell_type": "code",
   "execution_count": 2,
   "metadata": {},
   "outputs": [],
   "source": [
    "%matplotlib inline"
   ]
  },
  {
   "cell_type": "code",
   "execution_count": 3,
   "metadata": {},
   "outputs": [],
   "source": [
    "data = pd.read_csv('.\\Video_Games_Sales_as_at_22_Dec_2016.csv')"
   ]
  },
  {
   "cell_type": "code",
   "execution_count": 4,
   "metadata": {},
   "outputs": [
    {
     "output_type": "execute_result",
     "data": {
      "text/plain": "                       Name Platform  Year_of_Release         Genre Publisher  \\\n0                Wii Sports      Wii           2006.0        Sports  Nintendo   \n1         Super Mario Bros.      NES           1985.0      Platform  Nintendo   \n2            Mario Kart Wii      Wii           2008.0        Racing  Nintendo   \n3         Wii Sports Resort      Wii           2009.0        Sports  Nintendo   \n4  Pokemon Red/Pokemon Blue       GB           1996.0  Role-Playing  Nintendo   \n\n   NA_Sales  EU_Sales  JP_Sales  Other_Sales  Global_Sales  Critic_Score  \\\n0     41.36     28.96      3.77         8.45         82.53          76.0   \n1     29.08      3.58      6.81         0.77         40.24           NaN   \n2     15.68     12.76      3.79         3.29         35.52          82.0   \n3     15.61     10.93      3.28         2.95         32.77          80.0   \n4     11.27      8.89     10.22         1.00         31.37           NaN   \n\n   Critic_Count User_Score  User_Count Developer Rating  \n0          51.0          8       322.0  Nintendo      E  \n1           NaN        NaN         NaN       NaN    NaN  \n2          73.0        8.3       709.0  Nintendo      E  \n3          73.0          8       192.0  Nintendo      E  \n4           NaN        NaN         NaN       NaN    NaN  ",
      "text/html": "<div>\n<style scoped>\n    .dataframe tbody tr th:only-of-type {\n        vertical-align: middle;\n    }\n\n    .dataframe tbody tr th {\n        vertical-align: top;\n    }\n\n    .dataframe thead th {\n        text-align: right;\n    }\n</style>\n<table border=\"1\" class=\"dataframe\">\n  <thead>\n    <tr style=\"text-align: right;\">\n      <th></th>\n      <th>Name</th>\n      <th>Platform</th>\n      <th>Year_of_Release</th>\n      <th>Genre</th>\n      <th>Publisher</th>\n      <th>NA_Sales</th>\n      <th>EU_Sales</th>\n      <th>JP_Sales</th>\n      <th>Other_Sales</th>\n      <th>Global_Sales</th>\n      <th>Critic_Score</th>\n      <th>Critic_Count</th>\n      <th>User_Score</th>\n      <th>User_Count</th>\n      <th>Developer</th>\n      <th>Rating</th>\n    </tr>\n  </thead>\n  <tbody>\n    <tr>\n      <th>0</th>\n      <td>Wii Sports</td>\n      <td>Wii</td>\n      <td>2006.0</td>\n      <td>Sports</td>\n      <td>Nintendo</td>\n      <td>41.36</td>\n      <td>28.96</td>\n      <td>3.77</td>\n      <td>8.45</td>\n      <td>82.53</td>\n      <td>76.0</td>\n      <td>51.0</td>\n      <td>8</td>\n      <td>322.0</td>\n      <td>Nintendo</td>\n      <td>E</td>\n    </tr>\n    <tr>\n      <th>1</th>\n      <td>Super Mario Bros.</td>\n      <td>NES</td>\n      <td>1985.0</td>\n      <td>Platform</td>\n      <td>Nintendo</td>\n      <td>29.08</td>\n      <td>3.58</td>\n      <td>6.81</td>\n      <td>0.77</td>\n      <td>40.24</td>\n      <td>NaN</td>\n      <td>NaN</td>\n      <td>NaN</td>\n      <td>NaN</td>\n      <td>NaN</td>\n      <td>NaN</td>\n    </tr>\n    <tr>\n      <th>2</th>\n      <td>Mario Kart Wii</td>\n      <td>Wii</td>\n      <td>2008.0</td>\n      <td>Racing</td>\n      <td>Nintendo</td>\n      <td>15.68</td>\n      <td>12.76</td>\n      <td>3.79</td>\n      <td>3.29</td>\n      <td>35.52</td>\n      <td>82.0</td>\n      <td>73.0</td>\n      <td>8.3</td>\n      <td>709.0</td>\n      <td>Nintendo</td>\n      <td>E</td>\n    </tr>\n    <tr>\n      <th>3</th>\n      <td>Wii Sports Resort</td>\n      <td>Wii</td>\n      <td>2009.0</td>\n      <td>Sports</td>\n      <td>Nintendo</td>\n      <td>15.61</td>\n      <td>10.93</td>\n      <td>3.28</td>\n      <td>2.95</td>\n      <td>32.77</td>\n      <td>80.0</td>\n      <td>73.0</td>\n      <td>8</td>\n      <td>192.0</td>\n      <td>Nintendo</td>\n      <td>E</td>\n    </tr>\n    <tr>\n      <th>4</th>\n      <td>Pokemon Red/Pokemon Blue</td>\n      <td>GB</td>\n      <td>1996.0</td>\n      <td>Role-Playing</td>\n      <td>Nintendo</td>\n      <td>11.27</td>\n      <td>8.89</td>\n      <td>10.22</td>\n      <td>1.00</td>\n      <td>31.37</td>\n      <td>NaN</td>\n      <td>NaN</td>\n      <td>NaN</td>\n      <td>NaN</td>\n      <td>NaN</td>\n      <td>NaN</td>\n    </tr>\n  </tbody>\n</table>\n</div>"
     },
     "metadata": {},
     "execution_count": 4
    }
   ],
   "source": [
    "data.head()"
   ]
  },
  {
   "cell_type": "code",
   "execution_count": 6,
   "metadata": {
    "tags": []
   },
   "outputs": [
    {
     "output_type": "stream",
     "name": "stdout",
     "text": "<class 'pandas.core.frame.DataFrame'>\nRangeIndex: 16719 entries, 0 to 16718\nData columns (total 16 columns):\n #   Column           Non-Null Count  Dtype  \n---  ------           --------------  -----  \n 0   Name             16717 non-null  object \n 1   Platform         16719 non-null  object \n 2   Year_of_Release  16450 non-null  float64\n 3   Genre            16717 non-null  object \n 4   Publisher        16665 non-null  object \n 5   NA_Sales         16719 non-null  float64\n 6   EU_Sales         16719 non-null  float64\n 7   JP_Sales         16719 non-null  float64\n 8   Other_Sales      16719 non-null  float64\n 9   Global_Sales     16719 non-null  float64\n 10  Critic_Score     8137 non-null   float64\n 11  Critic_Count     8137 non-null   float64\n 12  User_Score       10015 non-null  object \n 13  User_Count       7590 non-null   float64\n 14  Developer        10096 non-null  object \n 15  Rating           9950 non-null   object \ndtypes: float64(9), object(7)\nmemory usage: 2.0+ MB\n"
    }
   ],
   "source": [
    "data.info()"
   ]
  },
  {
   "cell_type": "code",
   "execution_count": 34,
   "metadata": {},
   "outputs": [
    {
     "output_type": "execute_result",
     "data": {
      "text/plain": "array(['E', nan, 'M', 'T', 'E10+', 'K-A', 'AO', 'EC', 'RP'], dtype=object)"
     },
     "metadata": {},
     "execution_count": 34
    }
   ],
   "source": [
    "data['Rating'].unique()"
   ]
  },
  {
   "cell_type": "code",
   "execution_count": 45,
   "metadata": {},
   "outputs": [
    {
     "output_type": "execute_result",
     "data": {
      "text/plain": "31"
     },
     "metadata": {},
     "execution_count": 45
    }
   ],
   "source": [
    "len(data['Platform'].unique())"
   ]
  },
  {
   "cell_type": "code",
   "execution_count": 46,
   "metadata": {},
   "outputs": [
    {
     "output_type": "execute_result",
     "data": {
      "text/plain": "                                                Name Platform  \\\n16                                Grand Theft Auto V      PS3   \n17                     Grand Theft Auto: San Andreas      PS2   \n23                                Grand Theft Auto V     X360   \n24                       Grand Theft Auto: Vice City      PS2   \n29                    Call of Duty: Modern Warfare 3     X360   \n...                                              ...      ...   \n16622                          Xblaze: Lost Memories      PSV   \n16651                    Metal Gear Solid HD Edition     X360   \n16676  Metal Gear Solid V: The Definitive Experience     XOne   \n16677                 Mortal Kombat: Deadly Alliance      GBA   \n16696              Metal Gear Solid V: Ground Zeroes       PC   \n\n       Year_of_Release      Genre                     Publisher  NA_Sales  \\\n16              2013.0     Action          Take-Two Interactive      7.02   \n17              2004.0     Action          Take-Two Interactive      9.43   \n23              2013.0     Action          Take-Two Interactive      9.66   \n24              2002.0     Action          Take-Two Interactive      8.41   \n29              2011.0    Shooter                    Activision      9.04   \n...                ...        ...                           ...       ...   \n16622           2015.0  Adventure              Arc System Works      0.01   \n16651           2011.0     Action  Konami Digital Entertainment      0.00   \n16676           2016.0     Action  Konami Digital Entertainment      0.01   \n16677           2002.0   Fighting                  Midway Games      0.01   \n16696           2014.0     Action  Konami Digital Entertainment      0.00   \n\n       EU_Sales  JP_Sales  Other_Sales  Global_Sales  Critic_Score  \\\n16         9.09      0.98         3.96         21.04          97.0   \n17         0.40      0.41        10.57         20.81          95.0   \n23         5.14      0.06         1.41         16.27          97.0   \n24         5.49      0.47         1.78         16.15          95.0   \n29         4.24      0.13         1.32         14.73          88.0   \n...         ...       ...          ...           ...           ...   \n16622      0.00      0.00         0.00          0.01           NaN   \n16651      0.00      0.01         0.00          0.01           NaN   \n16676      0.00      0.00         0.00          0.01           NaN   \n16677      0.00      0.00         0.00          0.01          81.0   \n16696      0.01      0.00         0.00          0.01          80.0   \n\n       Critic_Count User_Score  User_Count                          Developer  \\\n16             50.0        8.2      3994.0                     Rockstar North   \n17             80.0          9      1588.0                     Rockstar North   \n23             58.0        8.1      3711.0                     Rockstar North   \n24             62.0        8.7       730.0                     Rockstar North   \n29             81.0        3.4      8713.0  Infinity Ward, Sledgehammer Games   \n...             ...        ...         ...                                ...   \n16622           NaN          7         8.0                   Arc System Works   \n16651           NaN        tbd         NaN                             Konami   \n16676           NaN        tbd         NaN                 Kojima Productions   \n16677          12.0        8.8         9.0                    Criterion Games   \n16696          20.0        7.6       412.0                 Kojima Productions   \n\n      Rating  \n16         M  \n17         M  \n23         M  \n24         M  \n29         M  \n...      ...  \n16622      M  \n16651      M  \n16676      M  \n16677      M  \n16696      M  \n\n[1563 rows x 16 columns]",
      "text/html": "<div>\n<style scoped>\n    .dataframe tbody tr th:only-of-type {\n        vertical-align: middle;\n    }\n\n    .dataframe tbody tr th {\n        vertical-align: top;\n    }\n\n    .dataframe thead th {\n        text-align: right;\n    }\n</style>\n<table border=\"1\" class=\"dataframe\">\n  <thead>\n    <tr style=\"text-align: right;\">\n      <th></th>\n      <th>Name</th>\n      <th>Platform</th>\n      <th>Year_of_Release</th>\n      <th>Genre</th>\n      <th>Publisher</th>\n      <th>NA_Sales</th>\n      <th>EU_Sales</th>\n      <th>JP_Sales</th>\n      <th>Other_Sales</th>\n      <th>Global_Sales</th>\n      <th>Critic_Score</th>\n      <th>Critic_Count</th>\n      <th>User_Score</th>\n      <th>User_Count</th>\n      <th>Developer</th>\n      <th>Rating</th>\n    </tr>\n  </thead>\n  <tbody>\n    <tr>\n      <th>16</th>\n      <td>Grand Theft Auto V</td>\n      <td>PS3</td>\n      <td>2013.0</td>\n      <td>Action</td>\n      <td>Take-Two Interactive</td>\n      <td>7.02</td>\n      <td>9.09</td>\n      <td>0.98</td>\n      <td>3.96</td>\n      <td>21.04</td>\n      <td>97.0</td>\n      <td>50.0</td>\n      <td>8.2</td>\n      <td>3994.0</td>\n      <td>Rockstar North</td>\n      <td>M</td>\n    </tr>\n    <tr>\n      <th>17</th>\n      <td>Grand Theft Auto: San Andreas</td>\n      <td>PS2</td>\n      <td>2004.0</td>\n      <td>Action</td>\n      <td>Take-Two Interactive</td>\n      <td>9.43</td>\n      <td>0.40</td>\n      <td>0.41</td>\n      <td>10.57</td>\n      <td>20.81</td>\n      <td>95.0</td>\n      <td>80.0</td>\n      <td>9</td>\n      <td>1588.0</td>\n      <td>Rockstar North</td>\n      <td>M</td>\n    </tr>\n    <tr>\n      <th>23</th>\n      <td>Grand Theft Auto V</td>\n      <td>X360</td>\n      <td>2013.0</td>\n      <td>Action</td>\n      <td>Take-Two Interactive</td>\n      <td>9.66</td>\n      <td>5.14</td>\n      <td>0.06</td>\n      <td>1.41</td>\n      <td>16.27</td>\n      <td>97.0</td>\n      <td>58.0</td>\n      <td>8.1</td>\n      <td>3711.0</td>\n      <td>Rockstar North</td>\n      <td>M</td>\n    </tr>\n    <tr>\n      <th>24</th>\n      <td>Grand Theft Auto: Vice City</td>\n      <td>PS2</td>\n      <td>2002.0</td>\n      <td>Action</td>\n      <td>Take-Two Interactive</td>\n      <td>8.41</td>\n      <td>5.49</td>\n      <td>0.47</td>\n      <td>1.78</td>\n      <td>16.15</td>\n      <td>95.0</td>\n      <td>62.0</td>\n      <td>8.7</td>\n      <td>730.0</td>\n      <td>Rockstar North</td>\n      <td>M</td>\n    </tr>\n    <tr>\n      <th>29</th>\n      <td>Call of Duty: Modern Warfare 3</td>\n      <td>X360</td>\n      <td>2011.0</td>\n      <td>Shooter</td>\n      <td>Activision</td>\n      <td>9.04</td>\n      <td>4.24</td>\n      <td>0.13</td>\n      <td>1.32</td>\n      <td>14.73</td>\n      <td>88.0</td>\n      <td>81.0</td>\n      <td>3.4</td>\n      <td>8713.0</td>\n      <td>Infinity Ward, Sledgehammer Games</td>\n      <td>M</td>\n    </tr>\n    <tr>\n      <th>...</th>\n      <td>...</td>\n      <td>...</td>\n      <td>...</td>\n      <td>...</td>\n      <td>...</td>\n      <td>...</td>\n      <td>...</td>\n      <td>...</td>\n      <td>...</td>\n      <td>...</td>\n      <td>...</td>\n      <td>...</td>\n      <td>...</td>\n      <td>...</td>\n      <td>...</td>\n      <td>...</td>\n    </tr>\n    <tr>\n      <th>16622</th>\n      <td>Xblaze: Lost Memories</td>\n      <td>PSV</td>\n      <td>2015.0</td>\n      <td>Adventure</td>\n      <td>Arc System Works</td>\n      <td>0.01</td>\n      <td>0.00</td>\n      <td>0.00</td>\n      <td>0.00</td>\n      <td>0.01</td>\n      <td>NaN</td>\n      <td>NaN</td>\n      <td>7</td>\n      <td>8.0</td>\n      <td>Arc System Works</td>\n      <td>M</td>\n    </tr>\n    <tr>\n      <th>16651</th>\n      <td>Metal Gear Solid HD Edition</td>\n      <td>X360</td>\n      <td>2011.0</td>\n      <td>Action</td>\n      <td>Konami Digital Entertainment</td>\n      <td>0.00</td>\n      <td>0.00</td>\n      <td>0.01</td>\n      <td>0.00</td>\n      <td>0.01</td>\n      <td>NaN</td>\n      <td>NaN</td>\n      <td>tbd</td>\n      <td>NaN</td>\n      <td>Konami</td>\n      <td>M</td>\n    </tr>\n    <tr>\n      <th>16676</th>\n      <td>Metal Gear Solid V: The Definitive Experience</td>\n      <td>XOne</td>\n      <td>2016.0</td>\n      <td>Action</td>\n      <td>Konami Digital Entertainment</td>\n      <td>0.01</td>\n      <td>0.00</td>\n      <td>0.00</td>\n      <td>0.00</td>\n      <td>0.01</td>\n      <td>NaN</td>\n      <td>NaN</td>\n      <td>tbd</td>\n      <td>NaN</td>\n      <td>Kojima Productions</td>\n      <td>M</td>\n    </tr>\n    <tr>\n      <th>16677</th>\n      <td>Mortal Kombat: Deadly Alliance</td>\n      <td>GBA</td>\n      <td>2002.0</td>\n      <td>Fighting</td>\n      <td>Midway Games</td>\n      <td>0.01</td>\n      <td>0.00</td>\n      <td>0.00</td>\n      <td>0.00</td>\n      <td>0.01</td>\n      <td>81.0</td>\n      <td>12.0</td>\n      <td>8.8</td>\n      <td>9.0</td>\n      <td>Criterion Games</td>\n      <td>M</td>\n    </tr>\n    <tr>\n      <th>16696</th>\n      <td>Metal Gear Solid V: Ground Zeroes</td>\n      <td>PC</td>\n      <td>2014.0</td>\n      <td>Action</td>\n      <td>Konami Digital Entertainment</td>\n      <td>0.00</td>\n      <td>0.01</td>\n      <td>0.00</td>\n      <td>0.00</td>\n      <td>0.01</td>\n      <td>80.0</td>\n      <td>20.0</td>\n      <td>7.6</td>\n      <td>412.0</td>\n      <td>Kojima Productions</td>\n      <td>M</td>\n    </tr>\n  </tbody>\n</table>\n<p>1563 rows × 16 columns</p>\n</div>"
     },
     "metadata": {},
     "execution_count": 46
    }
   ],
   "source": [
    "data[data['Rating']=='M']"
   ]
  },
  {
   "cell_type": "code",
   "execution_count": null,
   "metadata": {},
   "outputs": [],
   "source": []
  }
 ]
}